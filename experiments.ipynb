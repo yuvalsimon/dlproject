{
 "cells": [
  {
   "cell_type": "code",
   "execution_count": null,
   "metadata": {},
   "outputs": [],
   "source": [
    "from models import KMeansClassifier, LinearClassifier\n",
    "import torchvision\n",
    "import torchvision.transforms as tvtf\n",
    "import torch\n",
    "from torch.nn import DataParallel\n",
    "from torch.utils.data import DataLoader\n",
    "\n",
    "from tqdm import tqdm\n",
    "import matplotlib.pyplot as plt\n",
    "\n",
    "device = torch.device('cuda' if torch.cuda.is_available() else 'cpu')"
   ]
  },
  {
   "cell_type": "code",
   "execution_count": null,
   "metadata": {},
   "outputs": [],
   "source": [
    "batch_size = 256\n",
    "epochs = 200\n",
    "data_root = '~/.pytorch-datasets'\n",
    "\n",
    "out_channels = 512\n",
    "K = 10\n",
    "cluster_temp = 50\n",
    "learning_rate = 0.01\n",
    "dropout = 0.2\n",
    "\n",
    "seed = 24\n",
    "\n",
    "torch.manual_seed(seed)\n",
    "\n",
    "ds_train_mnist = torchvision.datasets.MNIST(data_root, train=True, transform=tvtf.ToTensor(), download=True)\n",
    "ds_test_mnist = torchvision.datasets.MNIST(data_root, train=False, transform=tvtf.ToTensor(), download=True)\n",
    "\n",
    "dl_train_mnist = DataLoader(ds_train_mnist, batch_size, shuffle=True)\n",
    "dl_test_mnist = DataLoader(ds_test_mnist, batch_size, shuffle=True)\n",
    "\n",
    "ds_train_fashionmnist = torchvision.datasets.FashionMNIST(data_root, train=True, transform=tvtf.ToTensor(), download=True)\n",
    "ds_test_fashionmnist = torchvision.datasets.FashionMNIST(data_root, train=False, transform=tvtf.ToTensor(), download=True)\n",
    "\n",
    "dl_train_fashionmnist = DataLoader(ds_train_fashionmnist, batch_size, shuffle=True)\n",
    "dl_test_fashionmnist = DataLoader(ds_test_fashionmnist, batch_size, shuffle=True)\n",
    "\n",
    "ds_train_cifar = torchvision.datasets.CIFAR10(data_root, train=True, transform=tvtf.ToTensor(), download=True)\n",
    "ds_test_cifar = torchvision.datasets.CIFAR10(data_root, train=False, transform=tvtf.ToTensor(), download=True)\n",
    "\n",
    "dl_train_cifar = DataLoader(ds_train_cifar, batch_size, shuffle=True)\n",
    "dl_test_cifar = DataLoader(ds_test_cifar, batch_size, shuffle=True)"
   ]
  },
  {
   "cell_type": "code",
   "execution_count": null,
   "metadata": {},
   "outputs": [],
   "source": [
    "def loss_fn(y_pred, y_true):\n",
    "    return torch.nn.functional.cross_entropy(y_pred, y_true)"
   ]
  },
  {
   "cell_type": "code",
   "execution_count": null,
   "metadata": {},
   "outputs": [],
   "source": [
    "def train(model, optimizer, dl_train, dl_test, num_epochs=epochs):\n",
    "    temperature = 100\n",
    "\n",
    "    num_samples = len(dl_train.sampler)\n",
    "    num_batches = len(dl_train.batch_sampler)\n",
    "    num_test_samples = len(dl_test.sampler)\n",
    "\n",
    "    best_accuracy = 0\n",
    "    best_test_accuracy = 0\n",
    "    \n",
    "    global train_accuracies, train_losses, test_accuracies, test_losses\n",
    "    train_accuracies = []\n",
    "    train_losses = []\n",
    "    test_accuracies = []\n",
    "    test_losses = []\n",
    "\n",
    "    with tqdm(total=num_batches, bar_format='{l_bar}{bar}{r_bar}') as pbar:\n",
    "        for epoch in range(num_epochs):\n",
    "            pbar.reset()\n",
    "            pbar.set_description(f'Epoch {epoch + 1}/{num_epochs}')\n",
    "            pbar.refresh()\n",
    "\n",
    "            num_correct = 0\n",
    "            for i, (x_train, y_train) in enumerate(dl_train, 0):\n",
    "                x_train = x_train.to(device)\n",
    "                y_train = y_train.to(device)\n",
    "\n",
    "                optimizer.zero_grad()\n",
    "\n",
    "                r = model(x_train)\n",
    "                y_pred = torch.softmax(temperature * r, dim=1)\n",
    "                loss = loss_fn(y_pred, y_train)\n",
    "                loss.backward()\n",
    "                optimizer.step()\n",
    "                num_correct += (y_pred.argmax(axis=1) == y_train).sum().item()\n",
    "                pbar.update()\n",
    "                accuracy = 100. * num_correct / num_samples\n",
    "\n",
    "            train_accuracies.append(accuracy)\n",
    "            train_losses.append(loss.item())\n",
    "            best_accuracy = max(best_accuracy, accuracy)\n",
    "            pbar.set_postfix(dict(accuracy=accuracy, best_accuracy=best_accuracy), loss=loss.item())\n",
    "\n",
    "            num_correct = 0\n",
    "            for i, (x_test, y_test) in enumerate(dl_test, 0):\n",
    "                x_test = x_test.to(device)\n",
    "                y_test = y_test.to(device)\n",
    "                r = model(x_test)\n",
    "                y_pred = torch.softmax(temperature * r, dim=1)\n",
    "                loss = loss_fn(y_pred, y_test)\n",
    "                num_correct += (y_pred.argmax(axis=1) == y_test).sum().item()\n",
    "                accuracy = 100. * num_correct / num_test_samples\n",
    "            best_test_accuracy = max(best_test_accuracy, accuracy)\n",
    "            test_losses.append(loss)\n",
    "            test_accuracies.append(accuracy)\n",
    "    print(f'best test accuracy: {best_test_accuracy}')"
   ]
  },
  {
   "cell_type": "code",
   "execution_count": null,
   "metadata": {},
   "outputs": [],
   "source": [
    "def plot_all(title):\n",
    "    fig, axes=plt.subplots(2,2, figsize=(12,8))\n",
    "    fig.suptitle(title)\n",
    "    axes[0,0].plot(train_losses)\n",
    "    axes[0,0].set_xlabel('epoch')\n",
    "    axes[0,0].set_title('train loss')\n",
    "    axes[0,1].plot(train_accuracies)\n",
    "    axes[0,1].set_xlabel('epoch')\n",
    "    axes[0,1].set_title('train accuracy')\n",
    "    axes[1,0].plot(test_losses)\n",
    "    axes[1,0].set_xlabel('epoch')\n",
    "    axes[1,0].set_title('test loss')\n",
    "    axes[1,1].plot(test_accuracies)\n",
    "    axes[1,1].set_xlabel('epoch')\n",
    "    axes[1,1].set_title('test accuracy')\n",
    "    plt.tight_layout()\n",
    "    fig.show()"
   ]
  },
  {
   "cell_type": "markdown",
   "metadata": {},
   "source": [
    "## Experiments"
   ]
  },
  {
   "cell_type": "markdown",
   "metadata": {},
   "source": [
    "### Classifier with KMeans layer"
   ]
  },
  {
   "cell_type": "code",
   "execution_count": null,
   "metadata": {},
   "outputs": [],
   "source": [
    "in_dims = ds_train_mnist.data[0].shape\n",
    "model = KMeansClassifier(in_dims, out_channels, K, dropout, cluster_temp)\n",
    "model = DataParallel(model).to(device)\n",
    "optimizer = torch.optim.SGD(model.parameters(), lr=learning_rate, weight_decay=5e-4, momentum=0.9)\n",
    "\n",
    "train(model, optimizer, dl_train_mnist, dl_test_mnist)"
   ]
  },
  {
   "cell_type": "code",
   "execution_count": null,
   "metadata": {},
   "outputs": [],
   "source": [
    "plot_all('kmeans model on mnist')"
   ]
  },
  {
   "cell_type": "code",
   "execution_count": null,
   "metadata": {},
   "outputs": [],
   "source": [
    "in_dims = ds_train_fashionmnist.data[0].shape\n",
    "model = KMeansClassifier(in_dims, out_channels, K, dropout, cluster_temp)\n",
    "model = DataParallel(model).to(device)\n",
    "optimizer = torch.optim.SGD(model.parameters(), lr=learning_rate, weight_decay=5e-4, momentum=0.9)\n",
    "\n",
    "train(model, optimizer, dl_train_fashionmnist, dl_test_fashionmnist)"
   ]
  },
  {
   "cell_type": "code",
   "execution_count": null,
   "metadata": {},
   "outputs": [],
   "source": [
    "plot_all('kmeans model on fashion mnist')"
   ]
  },
  {
   "cell_type": "code",
   "execution_count": null,
   "metadata": {},
   "outputs": [],
   "source": [
    "in_dims = ds_train_cifar.data[0].shape\n",
    "model = KMeansClassifier(in_dims, out_channels, K, dropout, cluster_temp)\n",
    "model = DataParallel(model).to(device)\n",
    "optimizer = torch.optim.SGD(model.parameters(), lr=learning_rate, weight_decay=5e-4, momentum=0.9)\n",
    "\n",
    "train(model, optimizer, dl_train_cifar, dl_test_cifar)"
   ]
  },
  {
   "cell_type": "code",
   "execution_count": null,
   "metadata": {},
   "outputs": [],
   "source": [
    "plot_all('kmeans model on cifar')"
   ]
  },
  {
   "cell_type": "markdown",
   "metadata": {},
   "source": [
    "### Classifier with linear layer"
   ]
  },
  {
   "cell_type": "code",
   "execution_count": null,
   "metadata": {},
   "outputs": [],
   "source": [
    "in_dims = ds_train_mnist.data[0].shape\n",
    "model = LinearClassifier(in_dims, out_channels, K, dropout)\n",
    "model = DataParallel(model).to(device)\n",
    "optimizer = torch.optim.SGD(model.parameters(), lr=learning_rate, weight_decay=5e-4, momentum=0.9)\n",
    "\n",
    "train(model, optimizer, dl_train_mnist, dl_test_mnist)"
   ]
  },
  {
   "cell_type": "code",
   "execution_count": null,
   "metadata": {},
   "outputs": [],
   "source": [
    "plot_all('linear model on mnist')"
   ]
  },
  {
   "cell_type": "code",
   "execution_count": null,
   "metadata": {},
   "outputs": [],
   "source": [
    "in_dims = ds_train_fashionmnist.data[0].shape\n",
    "model = LinearClassifier(in_dims, out_channels, K, dropout)\n",
    "model = DataParallel(model).to(device)\n",
    "optimizer = torch.optim.SGD(model.parameters(), lr=learning_rate, weight_decay=5e-4, momentum=0.9)\n",
    "\n",
    "train(model, optimizer, dl_train_fashionmnist, dl_test_fashionmnist)"
   ]
  },
  {
   "cell_type": "code",
   "execution_count": null,
   "metadata": {},
   "outputs": [],
   "source": [
    "plot_all('linear model on fashion mnist')"
   ]
  },
  {
   "cell_type": "code",
   "execution_count": null,
   "metadata": {},
   "outputs": [],
   "source": [
    "in_dims = ds_train_cifar.data[0].shape\n",
    "model = LinearClassifier(in_dims, out_channels, K, dropout)\n",
    "model = DataParallel(model).to(device)\n",
    "optimizer = torch.optim.SGD(model.parameters(), lr=learning_rate, weight_decay=5e-4, momentum=0.9)\n",
    "\n",
    "train(model, optimizer, dl_train_cifar, dl_test_cifar)"
   ]
  },
  {
   "cell_type": "code",
   "execution_count": null,
   "metadata": {},
   "outputs": [],
   "source": [
    "plot_all('linear model on cifar')"
   ]
  }
 ],
 "metadata": {
  "kernelspec": {
   "display_name": "Python 3",
   "language": "python",
   "name": "python3"
  },
  "language_info": {
   "codemirror_mode": {
    "name": "ipython",
    "version": 3
   },
   "file_extension": ".py",
   "mimetype": "text/x-python",
   "name": "python",
   "nbconvert_exporter": "python",
   "pygments_lexer": "ipython3",
   "version": "3.7.4"
  }
 },
 "nbformat": 4,
 "nbformat_minor": 4
}